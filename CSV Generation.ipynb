{
 "metadata": {
  "name": ""
 },
 "nbformat": 3,
 "nbformat_minor": 0,
 "worksheets": [
  {
   "cells": [
    {
     "cell_type": "code",
     "collapsed": false,
     "input": [
      "import os\n",
      "import re\n",
      "import datetime\n",
      "import pandas as pd"
     ],
     "language": "python",
     "metadata": {},
     "outputs": [],
     "prompt_number": 47
    },
    {
     "cell_type": "code",
     "collapsed": false,
     "input": [
      "DATA_FILES_DIR = \"txt/\""
     ],
     "language": "python",
     "metadata": {},
     "outputs": [],
     "prompt_number": 48
    },
    {
     "cell_type": "code",
     "collapsed": false,
     "input": [
      "cases = []\n",
      "\n",
      "for file_name in os.listdir(DATA_FILES_DIR):\n",
      "    if \".txt\" not in file_name:\n",
      "        continue\n",
      "        \n",
      "    lines = open(DATA_FILES_DIR + file_name, \"r\").readlines()\n",
      "    \n",
      "    file_date = None\n",
      "    \n",
      "    for i, line in enumerate(lines):\n",
      "        \n",
      "        if not file_date:\n",
      "            match = re.search(r'(\\d+/\\d+/\\d+)',line)\n",
      "            if match:\n",
      "                month, day, year = match.group(1).split(\"/\")\n",
      "                month = month.lstrip(\"0\")\n",
      "                day = day.lstrip(\"0\")\n",
      "                year = year.lstrip(\"0\")\n",
      "                \n",
      "                if len(month) == 1:\n",
      "                    month = \"0\" + month\n",
      "                \n",
      "                if len(day) == 1:\n",
      "                    day = \"0\" + day\n",
      "                    \n",
      "                if len(year) == 1:\n",
      "                    year = \"200\" + year\n",
      "                    \n",
      "                file_date = datetime.datetime.strptime(\"%s/%s/%s\" % (month, day, year),\"%m/%d/%Y\")\n",
      "        \n",
      "        if \"Narrative:\" in line:\n",
      "            \n",
      "            # read narrative until empty line\n",
      "            j = 0\n",
      "            while (lines[i+j] != \"\\n\"):\n",
      "                j += 1\n",
      "            \n",
      "            narrative = \" \".join([lines[i+k+1] for k in range(j)]).replace(\"\\n\",\"\")\n",
      "            \n",
      "            if file_date:\n",
      "                cases.append((file_date, narrative))\n",
      "\n",
      "df = pd.DataFrame(cases, columns=[\"date\",\"narrative\"])"
     ],
     "language": "python",
     "metadata": {},
     "outputs": [],
     "prompt_number": 49
    },
    {
     "cell_type": "code",
     "collapsed": false,
     "input": [
      "print df.sort(\"date\").to_csv(\"data.csv\", index=False)"
     ],
     "language": "python",
     "metadata": {},
     "outputs": [
      {
       "output_type": "stream",
       "stream": "stdout",
       "text": [
        "None\n"
       ]
      }
     ],
     "prompt_number": 50
    },
    {
     "cell_type": "code",
     "collapsed": false,
     "input": [],
     "language": "python",
     "metadata": {},
     "outputs": []
    }
   ],
   "metadata": {}
  }
 ]
}